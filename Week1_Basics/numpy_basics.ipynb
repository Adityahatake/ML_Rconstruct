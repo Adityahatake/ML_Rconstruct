{
 "cells": [
  {
   "cell_type": "code",
   "execution_count": 6,
   "id": "b8f3a57d",
   "metadata": {},
   "outputs": [
    {
     "name": "stdout",
     "output_type": "stream",
     "text": [
      "[[1 2 3]\n",
      " [4 5 6]]\n",
      "[[1 1 1]\n",
      " [2 2 2]]\n",
      "Addition:\n",
      " [[2 3 4]\n",
      " [6 7 8]]\n",
      "Dot product:\n",
      " [[ 6 12]\n",
      " [15 30]]\n",
      "mean of a:\n",
      " 3.5\n",
      "mean of b:\n",
      " 1.5\n"
     ]
    }
   ],
   "source": [
    "import numpy as np\n",
    " \n",
    "a=np.array([[1,2,3],[4,5,6]])\n",
    "b=np.array([[1,1,1],[2,2,2]])\n",
    "\n",
    "print(a)\n",
    "print(b)\n",
    "\n",
    "print(\"Addition:\\n\" ,a+b)\n",
    "print(\"Dot product:\\n\" , np.dot(a ,b.T))\n",
    "print(\"mean of a:\\n\" , np.mean(a))\n",
    "print(\"mean of b:\\n\" , np.mean(b))\n",
    "\n",
    "\n"
   ]
  }
 ],
 "metadata": {
  "kernelspec": {
   "display_name": "Python 3",
   "language": "python",
   "name": "python3"
  },
  "language_info": {
   "codemirror_mode": {
    "name": "ipython",
    "version": 3
   },
   "file_extension": ".py",
   "mimetype": "text/x-python",
   "name": "python",
   "nbconvert_exporter": "python",
   "pygments_lexer": "ipython3",
   "version": "3.12.10"
  }
 },
 "nbformat": 4,
 "nbformat_minor": 5
}
